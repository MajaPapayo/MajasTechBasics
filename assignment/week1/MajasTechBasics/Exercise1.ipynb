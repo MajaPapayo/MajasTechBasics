{
 "cells": [
  {
   "cell_type": "code",
   "id": "initial_id",
   "metadata": {
    "collapsed": true,
    "ExecuteTime": {
     "end_time": "2025-04-12T22:26:03.736670Z",
     "start_time": "2025-04-12T22:26:03.728003Z"
    }
   },
   "source": [],
   "outputs": [],
   "execution_count": null
  },
  {
   "cell_type": "markdown",
   "id": "20e9ac6206a1d74b",
   "metadata": {},
   "source": [
    "## Your first Jupiter Notebook\n",
    "\n",
    "Hello everyone, this is a Jupiter notebook. This will be our main format for most of the exercise sessions.\n",
    "\n",
    "The cool thing about Jupiter notebook is that it combines code and explanations in one file and let you run python code directly from here.\n",
    "\n",
    "First, let's try to run the following cell:\n"
   ]
  },
  {
   "cell_type": "code",
   "id": "f8b08a9e68dc85d4",
   "metadata": {
    "ExecuteTime": {
     "end_time": "2025-04-12T22:26:03.791031Z",
     "start_time": "2025-04-12T22:26:03.779705Z"
    }
   },
   "source": [
    "print(\"Hello world!\")"
   ],
   "outputs": [
    {
     "name": "stdout",
     "output_type": "stream",
     "text": [
      "Hello world!\n"
     ]
    }
   ],
   "execution_count": 64
  },
  {
   "cell_type": "markdown",
   "id": "fbb8fc0fbc841f14",
   "metadata": {},
   "source": [
    "You can always play around and edit the code cell to try your own code. But the program will not work unless the code is written exactly as it is above. For example, trying to run the print command without the quotation marks:"
   ]
  },
  {
   "cell_type": "code",
   "id": "649ed5f0f93e5893",
   "metadata": {
    "ExecuteTime": {
     "end_time": "2025-04-12T22:26:03.934722Z",
     "start_time": "2025-04-12T22:26:03.921264Z"
    }
   },
   "source": "print(\"Hello world\")",
   "outputs": [
    {
     "name": "stdout",
     "output_type": "stream",
     "text": [
      "Hello world\n"
     ]
    }
   ],
   "execution_count": 65
  },
  {
   "cell_type": "markdown",
   "id": "55606f6304da9c49",
   "metadata": {},
   "source": [
    "You should also always close the parentheses, otherwise you will see another error message:"
   ]
  },
  {
   "cell_type": "code",
   "id": "d65d17702b8e770c",
   "metadata": {
    "ExecuteTime": {
     "end_time": "2025-04-12T22:26:04.042445Z",
     "start_time": "2025-04-12T22:26:04.029871Z"
    }
   },
   "source": "print(\"Forgetful parentheses\")",
   "outputs": [
    {
     "name": "stdout",
     "output_type": "stream",
     "text": [
      "Forgetful parentheses\n"
     ]
    }
   ],
   "execution_count": 66
  },
  {
   "cell_type": "code",
   "id": "c53988c9eaf3a14f",
   "metadata": {
    "ExecuteTime": {
     "end_time": "2025-04-12T22:26:04.125326Z",
     "start_time": "2025-04-12T22:26:04.115957Z"
    }
   },
   "source": [
    "print('Single quotation marks work as well')"
   ],
   "outputs": [
    {
     "name": "stdout",
     "output_type": "stream",
     "text": [
      "Single quotation marks work as well\n"
     ]
    }
   ],
   "execution_count": 67
  },
  {
   "cell_type": "markdown",
   "id": "f9ee27f4a8cf868e",
   "metadata": {},
   "source": [
    "You can also print multiple lines"
   ]
  },
  {
   "cell_type": "code",
   "id": "3751bc98159ed943",
   "metadata": {
    "ExecuteTime": {
     "end_time": "2025-04-12T22:26:04.191281Z",
     "start_time": "2025-04-12T22:26:04.177058Z"
    }
   },
   "source": [
    "print(\"Welcome to Technical Basics I!\")\n",
    "print(\"This is our first class of the semester.\")\n",
    "print(\"Let's learn the print function in Python.\")"
   ],
   "outputs": [
    {
     "name": "stdout",
     "output_type": "stream",
     "text": [
      "Welcome to Technical Basics I!\n",
      "This is our first class of the semester.\n",
      "Let's learn the print function in Python.\n"
     ]
    }
   ],
   "execution_count": 68
  },
  {
   "cell_type": "markdown",
   "id": "b2537fc3",
   "metadata": {},
   "source": [
    "Now it's your turn. Try to create a new code block below and print an emoticon: :-)"
   ]
  },
  {
   "cell_type": "markdown",
   "id": "edccb278",
   "metadata": {},
   "source": [
    "---"
   ]
  },
  {
   "cell_type": "markdown",
   "id": "29fea431a04a4919",
   "metadata": {},
   "source": [
    "You can even print arithmetic operations directly:"
   ]
  },
  {
   "cell_type": "code",
   "id": "3b4e7414d19f36c8",
   "metadata": {
    "ExecuteTime": {
     "end_time": "2025-04-12T22:26:04.254988Z",
     "start_time": "2025-04-12T22:26:04.239963Z"
    }
   },
   "source": [
    "print(3+4)\n",
    "print(11*13)\n",
    "print(8*5+4)"
   ],
   "outputs": [
    {
     "name": "stdout",
     "output_type": "stream",
     "text": [
      "7\n",
      "143\n",
      "44\n"
     ]
    }
   ],
   "execution_count": 69
  },
  {
   "cell_type": "markdown",
   "id": "5fda3f293abd68c",
   "metadata": {},
   "source": [
    "Notice that there is no quotation marks around the arithmetic operations. Quotation marks are used to signify <i>strings</i>. We will talk more about strings next week. For now, what you put between the quotation marks will be printed exactly as it is.\n",
    "Notice the differences between the following two lines of code"
   ]
  },
  {
   "cell_type": "code",
   "id": "bc022cddb89eeff0",
   "metadata": {
    "ExecuteTime": {
     "end_time": "2025-04-12T22:26:04.347292Z",
     "start_time": "2025-04-12T22:26:04.334155Z"
    }
   },
   "source": [
    "print(1+2-3)\n",
    "print(\"1+2-3\")"
   ],
   "outputs": [
    {
     "name": "stdout",
     "output_type": "stream",
     "text": [
      "0\n",
      "1+2-3\n"
     ]
    }
   ],
   "execution_count": 70
  },
  {
   "cell_type": "markdown",
   "id": "fa26abd63ca30ed5",
   "metadata": {},
   "source": [
    "You can even combine the two styles together, but don't forget to separate them with a comma."
   ]
  },
  {
   "cell_type": "code",
   "id": "bb3d2d5a74b0b8fb",
   "metadata": {
    "ExecuteTime": {
     "end_time": "2025-04-12T22:26:04.459005Z",
     "start_time": "2025-04-12T22:26:04.447506Z"
    }
   },
   "source": [
    "print(\"This is the result of 2025+2024:\", 2025+2024)"
   ],
   "outputs": [
    {
     "name": "stdout",
     "output_type": "stream",
     "text": [
      "This is the result of 2025+2024: 4049\n"
     ]
    }
   ],
   "execution_count": 71
  },
  {
   "cell_type": "markdown",
   "id": "6011dfa02eb269d",
   "metadata": {},
   "source": [
    "And more commas"
   ]
  },
  {
   "cell_type": "code",
   "id": "3a3ff2cca7a6815e",
   "metadata": {
    "ExecuteTime": {
     "end_time": "2025-04-12T22:26:04.543358Z",
     "start_time": "2025-04-12T22:26:04.530449Z"
    }
   },
   "source": [
    "print(\"One hour has \", 60*60, \"seconds. One day has \", 60*60*24, \"minutes.\")"
   ],
   "outputs": [
    {
     "name": "stdout",
     "output_type": "stream",
     "text": [
      "One hour has  3600 seconds. One day has  86400 minutes.\n"
     ]
    }
   ],
   "execution_count": 72
  },
  {
   "cell_type": "markdown",
   "id": "f722ecbd01347e47",
   "metadata": {},
   "source": [
    "Notice that all characters have the same width in your output"
   ]
  },
  {
   "cell_type": "code",
   "id": "2572097965437886",
   "metadata": {
    "ExecuteTime": {
     "end_time": "2025-04-12T22:26:04.603944Z",
     "start_time": "2025-04-12T22:26:04.591079Z"
    }
   },
   "source": [
    "print(\"-----\")\n",
    "print(\"wwwww\")\n",
    "print(\"+++++\")"
   ],
   "outputs": [
    {
     "name": "stdout",
     "output_type": "stream",
     "text": [
      "-----\n",
      "wwwww\n",
      "+++++\n"
     ]
    }
   ],
   "execution_count": 73
  },
  {
   "cell_type": "markdown",
   "id": "9e831d0dd25e9df",
   "metadata": {},
   "source": [
    "---"
   ]
  },
  {
   "cell_type": "markdown",
   "id": "725afa7a4564cfe5",
   "metadata": {},
   "source": [
    "### Excercise 1\n",
    "\n"
   ]
  },
  {
   "cell_type": "markdown",
   "id": "e6c572b47b46ff5d",
   "metadata": {},
   "source": [
    "Make a little piece of ASCII art with print functions in python. You can first try it out here in the notebook. After you are satisfied with your result, save it as a `.py` file\n"
   ]
  },
  {
   "cell_type": "markdown",
   "id": "297b75e0734fb88f",
   "metadata": {},
   "source": []
  },
  {
   "metadata": {
    "ExecuteTime": {
     "end_time": "2025-04-12T22:26:04.763289Z",
     "start_time": "2025-04-12T22:26:04.727839Z"
    }
   },
   "cell_type": "code",
   "source": [
    "print(\"   ^,,,^\")\n",
    "print(\"  (° w °)\")\n",
    "print(\" ____U U___________________________________\")\n",
    "print(\"|                                          |\")\n",
    "print(\"|           My ASCII-Art featuring         |\")\n",
    "print(\"|                U*SA*HA*NA                | \")\n",
    "print(\" __________________________________________\")\n",
    "print(\"\")\n",
    "print(\"                                                                        *******\")\n",
    "print(\"                                                                    *************\")\n",
    "print(\"                                                                  ****************\")\n",
    "print(\"                                                                *******************\")\n",
    "print(\"                                                               ********************\")\n",
    "print(\"                                                               ********************\")\n",
    "print(\"                                                              ********************\")\n",
    "print(\"        ++++++                                     .         *******************\")\n",
    "print(\"    +++++++++++++++++                     ..................*******==********\")\n",
    "print(\"   ++++++++++++++++++++++             .....................=====*=====****\")\n",
    "print(\"  +++++++++++++++++++++++++++       ......................====--=====***\")\n",
    "print(\"  ++++++++++++++++++++++++++++++  ..........................=ooooo-=====\")\n",
    "print(\"  ++++++++++++++++++++++++++++++-........................====:oooooo======\")\n",
    "print(\"   ++++++++++++++++++++++++++++-..........................=====:o:========\")\n",
    "print(\"      +++++++++++++++++++++++=-................................=====...\")\n",
    "print(\"            ++++++++++++++++=-.................................=====....\")\n",
    "print(\"                    ++++++++-....................................:.......\")\n",
    "print(\"                         ++-..............................................\")\n",
    "print(\"                           ...................................+++.........\")\n",
    "print(\"                           ..................................+++++........\")\n",
    "print(\"                           ..........+++.....................+++++........\")\n",
    "print(\"                           .........+++++.........**..........+++.........\")\n",
    "print(\"                           .........+++++........****.....................\")\n",
    "print(\"                           ..........+++........=--*--=..................\")\n",
    "print(\"                            ............................................\")\n",
    "print(\"                             ........................................\")\n",
    "print(\"                              .....................................\")\n",
    "print(\"                                ...............................\")\n",
    "print(\"                                   ....................------=-----------\")\n",
    "print(\"                                      ....-----------------------=---------\")\n",
    "print(\"                                   .......----------------------=------------\")\n",
    "print(\"                                 .........-----------------------=-----------\")\n",
    "print(\"                                ..........------------------------=---------\")\n",
    "print(\"                               ...........------------------------\")\n",
    "print(\"                               .......... ------------------------\")\n",
    "print(\"                                 ....     ----------------------=\")\n",
    "print(\"                                          ==------------------===\")\n",
    "print(\"                                          ====-------------=======\")\n",
    "print(\"                                          ==========   ===========\")\n",
    "print(\"                                         ===========   ===========\")\n",
    "print(\"                                         ============ ============\")\n",
    "print(\"                                         ============-============\")\n",
    "print(\"                                         ============-============\")\n",
    "print(\"                                          ===========-===========\")\n",
    "print(\"                                           ==========-==========\")\n",
    "print(\"                                             =======   =======\")"
   ],
   "id": "579ee204982c9abc",
   "outputs": [
    {
     "name": "stdout",
     "output_type": "stream",
     "text": [
      "   ^,,,^\n",
      "  (° w °)\n",
      " ____U U___________________________________\n",
      "|                                          |\n",
      "|           My ASCII-Art featuring         |\n",
      "|                U*SA*HA*NA                | \n",
      " __________________________________________\n",
      "\n",
      "                                                                        *******\n",
      "                                                                    *************\n",
      "                                                                  ****************\n",
      "                                                                *******************\n",
      "                                                               ********************\n",
      "                                                               ********************\n",
      "                                                              ********************\n",
      "        ++++++                                     .         *******************\n",
      "    +++++++++++++++++                     ..................*******==********\n",
      "   ++++++++++++++++++++++             .....................=====*=====****\n",
      "  +++++++++++++++++++++++++++       ......................====--=====***\n",
      "  ++++++++++++++++++++++++++++++  ..........................=ooooo-=====\n",
      "  ++++++++++++++++++++++++++++++-........................====:oooooo======\n",
      "   ++++++++++++++++++++++++++++-..........................=====:o:========\n",
      "      +++++++++++++++++++++++=-................................=====...\n",
      "            ++++++++++++++++=-.................................=====....\n",
      "                    ++++++++-....................................:.......\n",
      "                         ++-..............................................\n",
      "                           ...................................+++.........\n",
      "                           ..................................+++++........\n",
      "                           ..........+++.....................+++++........\n",
      "                           .........+++++.........**..........+++.........\n",
      "                           .........+++++........****.....................\n",
      "                           ..........+++........=--*--=..................\n",
      "                            ............................................\n",
      "                             ........................................\n",
      "                              .....................................\n",
      "                                ...............................\n",
      "                                   ....................------=-----------\n",
      "                                      ....-----------------------=---------\n",
      "                                   .......----------------------=------------\n",
      "                                 .........-----------------------=-----------\n",
      "                                ..........------------------------=---------\n",
      "                               ...........------------------------\n",
      "                               .......... ------------------------\n",
      "                                 ....     ----------------------=\n",
      "                                          ==------------------===\n",
      "                                          ====-------------=======\n",
      "                                          ==========   ===========\n",
      "                                         ===========   ===========\n",
      "                                         ============ ============\n",
      "                                         ============-============\n",
      "                                         ============-============\n",
      "                                          ===========-===========\n",
      "                                           ==========-==========\n",
      "                                             =======   =======\n"
     ]
    }
   ],
   "execution_count": 74
  }
 ],
 "metadata": {
  "kernelspec": {
   "display_name": "Python 3",
   "language": "python",
   "name": "python3"
  },
  "language_info": {
   "codemirror_mode": {
    "name": "ipython",
    "version": 2
   },
   "file_extension": ".py",
   "mimetype": "text/x-python",
   "name": "python",
   "nbconvert_exporter": "python",
   "pygments_lexer": "ipython2",
   "version": "2.7.6"
  }
 },
 "nbformat": 4,
 "nbformat_minor": 5
}
